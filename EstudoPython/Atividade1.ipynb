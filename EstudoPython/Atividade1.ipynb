{
 "cells": [
  {
   "cell_type": "code",
   "execution_count": null,
   "id": "27f4e3d7",
   "metadata": {},
   "outputs": [],
   "source": [
    "\"\"\" \n",
    "Formação Cientista de Dados - Prof. Fernando Amaral\n",
    "SEÇÃO 7: Prática em Python\n",
    "\n",
    "\n",
    "1. Faça um programa que tenha uma função chamada amplitude. A função deve receber uma lista e \n",
    "imprimir a amplitude. Crie também um código para testar sua função.\n",
    "\n",
    "\"\"\"\n",
    "\n",
    "def amplitude(lista):\n",
    "    print(\"A amplitude dessa lista é:\", max(lista) - min(lista))\n",
    "    \n",
    "\n",
    "lista = [1, 2, 3, 4, 5, 6]\n",
    "amplitude(lista)"
   ]
  },
  {
   "cell_type": "code",
   "execution_count": null,
   "id": "0af88d4f",
   "metadata": {},
   "outputs": [],
   "source": [
    "\"\"\" \n",
    "2. Faça uma função que receba uma string e imprima esta string na forma vertical.\n",
    "\n",
    "\"\"\"\n",
    "def formaVertical(lista):\n",
    "    for i in range (0, len(lista)):\n",
    "        print(lista[i])\n",
    "\n",
    "lista = input(\"Digite a string: \")\n",
    "formaVertical(lista)"
   ]
  },
  {
   "cell_type": "code",
   "execution_count": 14,
   "id": "4d379740",
   "metadata": {},
   "outputs": [
    {
     "name": "stdout",
     "output_type": "stream",
     "text": [
      "Digite quantos pesos serão testados:3\n",
      "Digite: 190\n",
      "Digite: 19\n",
      "Digite: 8\n",
      "O transporte da carga de peso 190 kg não é aceito!\n",
      "Valor do transporte de 19 kg é: 80R$\n",
      "Valor do transporte de 8 kg é: 50R$\n"
     ]
    }
   ],
   "source": [
    "\"\"\" \n",
    "3. Crie um programa que leia o peso de uma carga em números inteiros. Se o peso for até 10 kg, informe \n",
    "que o valor será de R$ 50,00. Entre 11 e 20 kg, informe que o valor será de R$ 80. Se for maior que 20 \n",
    "informe que o transporte não é aceito. Teste vários pesos.\n",
    "\n",
    "\"\"\"\n",
    "def valorPorPeso(listaPesos):\n",
    "    for i in range(0, len(listaPesos)):\n",
    "        if listaPesos[i] > 20:\n",
    "            print(\"O transporte da carga de peso\", listaPesos[i], \"kg não é aceito!\")\n",
    "        elif listaPesos[i]>=10:\n",
    "            print(\"Valor do transporte de\", listaPesos[i], \"kg é: 80R$\")\n",
    "        else:\n",
    "            print(\"Valor do transporte de\", listaPesos[i], \"kg é: 50R$\")\n",
    "        \n",
    "quantidadeDePesos = int(input(\"Digite quantos pesos serão testados:\"))\n",
    "listaPesos = []\n",
    "\n",
    "\n",
    "for i in range(0, quantidadeDePesos):\n",
    "    listaPesos.append(input(\"Digite: \"))\n",
    "\n",
    "listaPesos = list(map(int, listaPesos))\n",
    "    \n",
    "valorPorPeso(listaPesos)"
   ]
  },
  {
   "cell_type": "markdown",
   "id": "0042d234",
   "metadata": {},
   "source": [
    "### "
   ]
  }
 ],
 "metadata": {
  "kernelspec": {
   "display_name": "Python 3 (ipykernel)",
   "language": "python",
   "name": "python3"
  },
  "language_info": {
   "codemirror_mode": {
    "name": "ipython",
    "version": 3
   },
   "file_extension": ".py",
   "mimetype": "text/x-python",
   "name": "python",
   "nbconvert_exporter": "python",
   "pygments_lexer": "ipython3",
   "version": "3.9.13"
  }
 },
 "nbformat": 4,
 "nbformat_minor": 5
}
